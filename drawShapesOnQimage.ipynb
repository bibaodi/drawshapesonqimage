{
 "cells": [
  {
   "cell_type": "code",
   "execution_count": null,
   "metadata": {},
   "outputs": [],
   "source": [
    "!pip install PyQt5==5.15"
   ]
  },
  {
   "cell_type": "code",
   "execution_count": null,
   "metadata": {},
   "outputs": [],
   "source": [
    "# demo for draw shape on Qimage\n",
    "from qtpy import QT_VERSION\n",
    "from qtpy import QtCore\n",
    "from qtpy import QtGui\n",
    "from qtpy import QtWidgets\n",
    "\n",
    "print(\"Qt version=\", QT_VERSION)"
   ]
  },
  {
   "cell_type": "code",
   "execution_count": null,
   "metadata": {},
   "outputs": [],
   "source": [
    "fimg=r\"D:\\workspace\\220506-kuanguDemoFake\\inputd\\045.dcm_frms\\frm-0000.png\"\n",
    "ofimg=r\"D:\\workspace\\220506-kuanguDemoFake\\inputd\\045.dcm_frms\\frm-0000o.png\"\n",
    "import sys"
   ]
  },
  {
   "cell_type": "code",
   "execution_count": null,
   "metadata": {},
   "outputs": [],
   "source": [
    "img = QtGui.QImage(fimg)\n",
    "img.size()"
   ]
  },
  {
   "cell_type": "code",
   "execution_count": null,
   "metadata": {},
   "outputs": [],
   "source": [
    "painter = QtGui.QPainter()\n",
    "painter.begin(img)\n",
    "pen = QtGui.QPen(QtGui.QColor(242, 234, 34))\n",
    "pen.setWidth(3)\n",
    "painter.setPen(pen)\n",
    "painter.setFont(QtGui.QFont('Decorative', 10))\n",
    "painter.drawRect(QtCore.QRect(0,0,500,500));\n",
    "painter.fillRect(QtCore.QRect(50,50,50,50), QtGui.QColor(255, 0, 34));\n",
    "painter.end()\n",
    "\n",
    "img.save(ofimg)"
   ]
  },
  {
   "cell_type": "code",
   "execution_count": null,
   "metadata": {},
   "outputs": [],
   "source": []
  }
 ],
 "metadata": {
  "kernelspec": {
   "display_name": "Python 3",
   "language": "python",
   "name": "python3"
  },
  "language_info": {
   "codemirror_mode": {
    "name": "ipython",
    "version": 3
   },
   "file_extension": ".py",
   "mimetype": "text/x-python",
   "name": "python",
   "nbconvert_exporter": "python",
   "pygments_lexer": "ipython3",
   "version": "3.6.8"
  }
 },
 "nbformat": 4,
 "nbformat_minor": 5
}
